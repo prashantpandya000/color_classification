{
 "cells": [
  {
   "cell_type": "code",
   "execution_count": null,
   "source": [
    "from PIL import Image\r\n",
    " \r\n",
    "img = Image.new('RGB', (60, 30), color = (73, 109, 137))\r\n",
    "img.save('pil_color.png')\r\n"
   ],
   "outputs": [],
   "metadata": {}
  }
 ],
 "metadata": {
  "orig_nbformat": 4,
  "language_info": {
   "name": "python",
   "version": "3.8.3"
  },
  "kernelspec": {
   "name": "python3",
   "display_name": "Python 3.8.3 64-bit ('base': conda)"
  },
  "interpreter": {
   "hash": "cbcdce6a926c612543ae8aba0643a88349cf2a8bb8d86298bcef1d1eb04f3dcc"
  }
 },
 "nbformat": 4,
 "nbformat_minor": 2
}